{
 "cells": [
  {
   "cell_type": "code",
   "execution_count": 1,
   "metadata": {},
   "outputs": [],
   "source": [
    "from qiskit import *\n",
    "from qiskit.visualization import plot_bloch_multivector\n",
    "from qiskit.visualization import plot_histogram\n",
    "import numpy as np\n",
    "import matplotlib.pyplot as plt\n",
    "import seaborn as sns"
   ]
  },
  {
   "cell_type": "code",
   "execution_count": 2,
   "metadata": {},
   "outputs": [
    {
     "name": "stderr",
     "output_type": "stream",
     "text": [
      "/opt/anaconda3/lib/python3.8/site-packages/qiskit/providers/ibmq/ibmqfactory.py:192: UserWarning: Timestamps in IBMQ backend properties, jobs, and job results are all now in local time instead of UTC.\n",
      "  warnings.warn('Timestamps in IBMQ backend properties, jobs, and job results '\n"
     ]
    },
    {
     "data": {
      "text/plain": [
       "<AccountProvider for IBMQ(hub='ibm-q', group='open', project='main')>"
      ]
     },
     "execution_count": 2,
     "metadata": {},
     "output_type": "execute_result"
    }
   ],
   "source": [
    "IBMQ.load_account()"
   ]
  },
  {
   "cell_type": "code",
   "execution_count": 3,
   "metadata": {},
   "outputs": [],
   "source": [
    "matplotlib inline"
   ]
  },
  {
   "cell_type": "code",
   "execution_count": 4,
   "metadata": {},
   "outputs": [
    {
     "data": {
      "text/plain": [
       "[<IBMQSimulator('ibmq_qasm_simulator') from IBMQ(hub='ibm-q', group='open', project='main')>,\n",
       " <IBMQBackend('ibmqx2') from IBMQ(hub='ibm-q', group='open', project='main')>,\n",
       " <IBMQBackend('ibmq_16_melbourne') from IBMQ(hub='ibm-q', group='open', project='main')>,\n",
       " <IBMQBackend('ibmq_vigo') from IBMQ(hub='ibm-q', group='open', project='main')>,\n",
       " <IBMQBackend('ibmq_ourense') from IBMQ(hub='ibm-q', group='open', project='main')>,\n",
       " <IBMQBackend('ibmq_valencia') from IBMQ(hub='ibm-q', group='open', project='main')>,\n",
       " <IBMQBackend('ibmq_armonk') from IBMQ(hub='ibm-q', group='open', project='main')>,\n",
       " <IBMQBackend('ibmq_athens') from IBMQ(hub='ibm-q', group='open', project='main')>,\n",
       " <IBMQBackend('ibmq_santiago') from IBMQ(hub='ibm-q', group='open', project='main')>]"
      ]
     },
     "execution_count": 4,
     "metadata": {},
     "output_type": "execute_result"
    }
   ],
   "source": [
    "my_provider = IBMQ.get_provider()\n",
    "my_provider.backends()"
   ]
  },
  {
   "cell_type": "code",
   "execution_count": 5,
   "metadata": {},
   "outputs": [],
   "source": [
    "simulator = my_provider.get_backend('ibmq_5_yorktown')"
   ]
  },
  {
   "cell_type": "code",
   "execution_count": 6,
   "metadata": {},
   "outputs": [],
   "source": [
    "# Making the quantum circuit\n",
    "def circuitI(gamma, beta, J, h1, h2):\n",
    "    qc = QuantumCircuit(2, 2)\n",
    "    qc.h([0, 1])\n",
    "    qc.h(1)\n",
    "    qc.cz(0,1)\n",
    "    qc.rx(2*gamma*J, 1)\n",
    "    qc.cz(0,1)\n",
    "    qc.h(1)\n",
    "    qc.i(0)\n",
    "    qc.rz(2*gamma*h1, 0)\n",
    "    qc.rz(2*gamma*h2, 1)\n",
    "    qc.rx(2*beta, 0)\n",
    "    qc.rx(2*beta, 1)\n",
    "    qc.measure([0,1], [0,1])\n",
    "    return qc"
   ]
  },
  {
   "cell_type": "code",
   "execution_count": 7,
   "metadata": {},
   "outputs": [],
   "source": [
    "# Initializing the variables for B.\n",
    "J = 0\n",
    "h1 = -1\n",
    "h2 = 0\n",
    "\n",
    "#Setting the dimesions of the pasephase. The amount of simulated points = n**2\n",
    "n = 61\n",
    "p = np.pi/(n-1)\n",
    "res = np.zeros([n, n, 4])\n",
    "\n",
    "\n",
    "# Running a simulation for each point\n",
    "for i in range(n):\n",
    "    qc_list = []\n",
    "    gamma = i*p\n",
    "    for j in range(n):\n",
    "        beta = j*p\n",
    "        qc = circuitI(gamma, beta, J, h1, h2)       \n",
    "        qc_list.append(qc)\n",
    "    transpiled_circs = transpile(qc_list, backend=simulator)\n",
    "    job = execute(transpiled_circs, backend = simulator, shots=1000 )\n",
    "    for circ_index in range(len(transpiled_circs)):\n",
    "        counts = job.result().get_counts(qc_list[circ_index])\n",
    "        res[i][circ_index][:] = np.array([int(counts.get('00', 0)), int(counts.get('01', 0)), int(counts.get('10', 0)),\n",
    "                            int(counts.get('11', 0))])\n"
   ]
  },
  {
   "cell_type": "code",
   "execution_count": 8,
   "metadata": {
    "scrolled": false
   },
   "outputs": [
    {
     "name": "stdout",
     "output_type": "stream",
     "text": [
      "[[[278. 236. 241. 245.]\n",
      "  [245. 246. 285. 224.]\n",
      "  [256. 254. 258. 232.]\n",
      "  ...\n",
      "  [242. 259. 274. 225.]\n",
      "  [226. 261. 283. 230.]\n",
      "  [281. 242. 236. 241.]]\n",
      "\n",
      " [[300. 244. 228. 228.]\n",
      "  [243. 239. 280. 238.]\n",
      "  [271. 224. 237. 268.]\n",
      "  ...\n",
      "  [253. 242. 248. 257.]\n",
      "  [270. 258. 224. 248.]\n",
      "  [284. 219. 237. 260.]]\n",
      "\n",
      " [[283. 221. 232. 264.]\n",
      "  [256. 240. 267. 237.]\n",
      "  [261. 235. 257. 247.]\n",
      "  ...\n",
      "  [257. 229. 300. 214.]\n",
      "  [257. 242. 269. 232.]\n",
      "  [308. 270. 229. 193.]]\n",
      "\n",
      " ...\n",
      "\n",
      " [[251. 254. 247. 248.]\n",
      "  [240. 237. 296. 227.]\n",
      "  [278. 233. 269. 220.]\n",
      "  ...\n",
      "  [247. 224. 278. 251.]\n",
      "  [261. 211. 259. 269.]\n",
      "  [277. 237. 246. 240.]]\n",
      "\n",
      " [[277. 249. 245. 229.]\n",
      "  [244. 237. 268. 251.]\n",
      "  [276. 213. 278. 233.]\n",
      "  ...\n",
      "  [245. 226. 264. 265.]\n",
      "  [241. 232. 269. 258.]\n",
      "  [295. 219. 260. 226.]]\n",
      "\n",
      " [[275. 242. 251. 232.]\n",
      "  [240. 237. 282. 241.]\n",
      "  [273. 240. 263. 224.]\n",
      "  ...\n",
      "  [225. 234. 287. 254.]\n",
      "  [236. 248. 285. 231.]\n",
      "  [281. 221. 239. 259.]]]\n"
     ]
    }
   ],
   "source": [
    "print(res)"
   ]
  },
  {
   "cell_type": "code",
   "execution_count": 9,
   "metadata": {
    "scrolled": false
   },
   "outputs": [
    {
     "data": {
      "image/png": "[encoded data removed]",
      "text/plain": [
       "<Figure size 688.452x204.68 with 1 Axes>"
      ]
     },
     "execution_count": 9,
     "metadata": {},
     "output_type": "execute_result"
    }
   ],
   "source": [
    "#Draw the current circuit\n",
    "qc.draw(output='mpl')"
   ]
  },
  {
   "cell_type": "code",
   "execution_count": 10,
   "metadata": {},
   "outputs": [
    {
     "data": {
      "image/png": "[encoded data removed]",
      "text/plain": [
       "<Figure size 359.931x385.28 with 1 Axes>"
      ]
     },
     "execution_count": 10,
     "metadata": {},
     "output_type": "execute_result"
    }
   ],
   "source": [
    "transpiled_circs[0].draw(output='mpl')"
   ]
  },
  {
   "cell_type": "code",
   "execution_count": 11,
   "metadata": {},
   "outputs": [
    {
     "data": {
      "text/plain": [
       "<AxesSubplot:>"
      ]
     },
     "execution_count": 11,
     "metadata": {},
     "output_type": "execute_result"
    },
    {
     "data": {
      "image/png": "[encoded data removed]",
      "text/plain": [
       "<Figure size 432x288 with 2 Axes>"
      ]
     },
     "metadata": {
      "needs_background": "light"
     },
     "output_type": "display_data"
    }
   ],
   "source": [
    "# Making a heatmap plot\n",
    "sns.heatmap(res[:, :, 1]+res[:, :, 3])"
   ]
  },
  {
   "cell_type": "code",
   "execution_count": null,
   "metadata": {},
   "outputs": [],
   "source": []
  }
 ],
 "metadata": {
  "kernelspec": {
   "display_name": "Python 3",
   "language": "python",
   "name": "python3"
  },
  "language_info": {
   "codemirror_mode": {
    "name": "ipython",
    "version": 3
   },
   "file_extension": ".py",
   "mimetype": "text/x-python",
   "name": "python",
   "nbconvert_exporter": "python",
   "pygments_lexer": "ipython3",
   "version": "3.8.5"
  }
 },
 "nbformat": 4,
 "nbformat_minor": 4
}
