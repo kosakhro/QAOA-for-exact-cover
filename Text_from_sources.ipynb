{
 "cells": [
  {
   "cell_type": "markdown",
   "metadata": {},
   "source": [
    "# Some extra for the presentation"
   ]
  },
  {
   "cell_type": "markdown",
   "metadata": {},
   "source": [
    "Source: original paper and some references"
   ]
  },
  {
   "cell_type": "markdown",
   "metadata": {},
   "source": [
    "We apply QAOA to the exact-cover problem. Formally, the Exact Cover is as follows:\n",
    "\n",
    "Input: A set of $m$ elements, $X = \\{c_1, c_2, \\ldots, c_m\\}$;  \n",
    "a family of $n$ subsets of $X$, $\\mathcal{S} = \\{S_1, S_2, \\ldots, S_n\\}$, where $S_i \\subset X$\n",
    "\n",
    "Question: Is there a subset $I \\subseteq \\{1, \\ldots, n\\}$ \n",
    "such that $\\cup_{i \\in I} S_i = X$, where $S_i \\cap S_j = \\emptyset$ for $i\\neq j \\in I$? \n",
    "Here $\\{S_i: i \\in I\\}$ is called an  exact cover of $X$."
   ]
  },
  {
   "cell_type": "markdown",
   "metadata": {},
   "source": [
    "Example: $X=\\{c_1,c_2,c_3,c_4,c_5\\}$, and $\\mathcal{S} = \\{S_1, S_2, \\ldots, S_7\\}$, with \n",
    "$S_1=\\{c_1,c_2,c_4\\}$, $S_2=\\{c_1,c_2,c_5\\}$, $S_3=\\{c_1,c_3, c_4\\}$,$S_4 = \\{c_2, c_3\\}$, $S_5=\\{c_3\\}$, $S_6=\\{c_4,c_5\\}$, $S_7=\\{c_5\\}$.\n",
    "Here $\\{S_1, S_5, S_7\\}$ is the exact cover of $X$."
   ]
  },
  {
   "cell_type": "markdown",
   "metadata": {},
   "source": [
    "In particular, if we further restrict that each element $c_i \\in X$ appears exactly in three subsets. The problem is referred as\n",
    "EC3, which can then be polynomially reducible to the positive 1-in-3SAT problem."
   ]
  },
  {
   "cell_type": "markdown",
   "metadata": {},
   "source": []
  },
  {
   "cell_type": "markdown",
   "metadata": {},
   "source": []
  },
  {
   "cell_type": "markdown",
   "metadata": {},
   "source": []
  },
  {
   "cell_type": "markdown",
   "metadata": {},
   "source": []
  },
  {
   "cell_type": "markdown",
   "metadata": {},
   "source": [
    " This problem can be mapped onto an Ising Hamiltonian, where the number of spins equals the number of subsets, while the size of $X$ can be arbitrary."
   ]
  },
  {
   "cell_type": "markdown",
   "metadata": {},
   "source": [
    "Let us consider $n=2$, for which the two-spin Ising Hamiltonian is \n",
    "\\begin{equation}\n",
    "    \\label{eq:H2}\n",
    "    \\hat{C} = h_1\\hat{\\sigma}_1^z + h_2\\hat{\\sigma}_2^z +J\\hat{\\sigma}_1^z\\hat{\\sigma}_2^z.\n",
    "\\end{equation}"
   ]
  },
  {
   "cell_type": "markdown",
   "metadata": {},
   "source": [
    "The exact-cover problem is mapped onto this Hamiltonian by choosing $h_i$ and $J$ as follows:\n",
    "\\begin{align}\n",
    "\\label{eq:crit}\n",
    "    J &> \\mathrm{min}(c_1, c_2), \\\\\n",
    "    h_1 &= J - 2 c_1, \\nonumber\\\\\n",
    "    h_2 &= J - 2 c_2, \\nonumber\n",
    "\\end{align}\n",
    "where $c_i$ is the number of elements in subset $i$, and $J>0$ if the two subsets share at least one element.\n",
    "We are free to choose $J$, as long as it fulfills the criterion in. For example, consider $X=\\{x_1, x_2\\}$ and two subsets $S_1=\\{x_1, x_2\\}$ and $S_2=\\{x_1\\}$. This gives $c_1=2$ and $c_2=1$, and we could choose $J = 2$, yielding $h_1=-2$ and $h_2=0$. "
   ]
  },
  {
   "cell_type": "markdown",
   "metadata": {},
   "source": [
    "It is easy to check that the corresponding ground state is $\\ket{10}$ (i.e., $S_1$ is the solution). Finally, we normalize $J$ and $h_i$ such that the Ising Hamiltonian has integer eigenvalues, allowing us to restrict $\\gamma_i$ and $\\beta_i$ to the interval $[0, \\pi[$."
   ]
  },
  {
   "cell_type": "markdown",
   "metadata": {},
   "source": [
    "For two subsets, four different problems exist, which all yield different sets of $h_i$ and $J$. These are summarized in table. Problem A is the example given above; it is the most interesting, as the other problems are trivial. Problems B and C are trivial since they do not contain any qubit-qubit interaction ($J=0$). Problem D is also trivial since both subsets are equal. Additionally, the ground states are degenerate for problems B and D."
   ]
  },
  {
   "cell_type": "markdown",
   "metadata": {},
   "source": [
    "\\begin{table}\n",
    "\\centering\n",
    "\\caption{The four different exact-cover problems available with two subsets, and their solutions and respective sets of coefficients in the Ising Hamiltonian $\\hat{C} = h_1\\hat{\\sigma}_1^z + h_2\\hat{\\sigma}_1^z +J\\hat{\\sigma}_1^z\\hat{\\sigma}_2^z$.\n",
    "}\n",
    "\\label{tab:problems}\n",
    "\\begin{ruledtabular}\n",
    "\\begin{tabular}{ p{0.8cm} p{2.4cm} | p{0.8cm} p{0.8cm} p{0.8cm} p{1.9cm}}\n",
    "  \\# & Subsets & $h_1$ & $h_2$ & $J$ & Solution  \\\\\n",
    "  \\hline\n",
    "  A & $S_1=\\{x_1, x_2\\}$,\\newline $S_2=\\{x_1\\}$ & -1/2 & 0 & 1/2 & $\\ket{10}$ \\\\\n",
    "  B & $S_1=\\{x_1, x_2\\}$,\\newline $S_2=\\{\\}$ & -1 & 0 & 0 & $\\ket{10}$ or $\\ket{11}$ \\\\\n",
    "  C & $S_1=\\{x_1\\}$,\\newline $S_2=\\{x_2\\}$ & -1/2 & -1/2 & 0 & $\\ket{11}$ \\\\\n",
    "  D & $S_1=\\{x_1, x_2\\}$,\\newline $S_2=\\{x_1, x_2\\}$ & 0 & 0 & 1 & $\\ket{10}$ or $\\ket{01}$ \\\\\n",
    "\\end{tabular}\n",
    "\\end{ruledtabular}\n",
    "\\end{table}"
   ]
  },
  {
   "cell_type": "markdown",
   "metadata": {},
   "source": []
  },
  {
   "cell_type": "markdown",
   "metadata": {},
   "source": []
  }
 ],
 "metadata": {
  "kernelspec": {
   "display_name": "Python 3",
   "language": "python",
   "name": "python3"
  },
  "language_info": {
   "codemirror_mode": {
    "name": "ipython",
    "version": 3
   },
   "file_extension": ".py",
   "mimetype": "text/x-python",
   "name": "python",
   "nbconvert_exporter": "python",
   "pygments_lexer": "ipython3",
   "version": "3.8.3"
  }
 },
 "nbformat": 4,
 "nbformat_minor": 4
}
