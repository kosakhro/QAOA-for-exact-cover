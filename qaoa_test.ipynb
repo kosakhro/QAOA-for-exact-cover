{
 "cells": [
  {
   "cell_type": "code",
   "execution_count": 9,
   "metadata": {},
   "outputs": [],
   "source": [
    "from qiskit import *\n",
    "from qiskit.visualization import plot_bloch_multivector\n",
    "from qiskit.visualization import plot_histogram\n",
    "import numpy as np\n",
    "import matplotlib.pyplot as plt\n",
    "import seaborn as sns"
   ]
  },
  {
   "cell_type": "code",
   "execution_count": 3,
   "metadata": {},
   "outputs": [],
   "source": [
    "matplotlib inline"
   ]
  },
  {
   "cell_type": "code",
   "execution_count": 4,
   "metadata": {},
   "outputs": [],
   "source": [
    "simulator = Aer.get_backend('qasm_simulator')"
   ]
  },
  {
   "cell_type": "code",
   "execution_count": 26,
   "metadata": {},
   "outputs": [],
   "source": [
    "# Making the quantum circuit\n",
    "def circuitI(gamma, beta, J, h1, h2):\n",
    "    qc = QuantumCircuit(2, 2)\n",
    "    qc.h([0, 1])\n",
    "    qc.h(1)\n",
    "    qc.cz(0,1)\n",
    "    qc.rx(2*gamma*J, 1)\n",
    "    qc.cz(0,1)\n",
    "    qc.h(1)\n",
    "    qc.i(0)\n",
    "    qc.rz(2*gamma*h1, 0)\n",
    "    qc.rz(2*gamma*h2, 1)\n",
    "    qc.rx(2*beta, 0)\n",
    "    qc.rx(2*beta, 1)\n",
    "    qc.measure([0,1], [0,1])\n",
    "    return qc"
   ]
  },
  {
   "cell_type": "code",
   "execution_count": 31,
   "metadata": {},
   "outputs": [],
   "source": [
    "# Initializing the variables\n",
    "J = 0.5\n",
    "h1 = -0.5\n",
    "h2 = 0\n",
    "\n",
    "#Setting the dimesions of the pasephase. The amount of simulated points = n**2\n",
    "n = 61\n",
    "p = np.pi/(n-1)\n",
    "res = np.zeros([n, n, 4])\n",
    "\n",
    "# Running a simulation for each point\n",
    "for i in range(n):\n",
    "    gamma = i*p\n",
    "    for j in range(n):\n",
    "        beta = j*p\n",
    "        qc = circuitI(gamma, beta, J, h1, h2)\n",
    "        counts = execute(qc, backend = simulator, shots=1000).result().get_counts()\n",
    "        res[i][j][:] = np.array([int(counts.get('00', 0)), int(counts.get('01', 0)), int(counts.get('10', 0)),\n",
    "                                 int(counts.get('11', 0))])"
   ]
  },
  {
   "cell_type": "code",
   "execution_count": 21,
   "metadata": {},
   "outputs": [
    {
     "name": "stdout",
     "output_type": "stream",
     "text": [
      "[[[1000.    0.    0.    0.]\n",
      "  [ 807.   89.   91.   13.]\n",
      "  [ 437.  220.  237.  106.]\n",
      "  [ 124.  229.  218.  429.]\n",
      "  [  13.   91.   82.  814.]\n",
      "  [   0.    0.    0. 1000.]\n",
      "  [   7.  105.   77.  811.]\n",
      "  [ 141.  208.  223.  428.]\n",
      "  [ 425.  244.  210.  121.]\n",
      "  [ 825.   77.   86.   12.]\n",
      "  [1000.    0.    0.    0.]]\n",
      "\n",
      " [[1000.    0.    0.    0.]\n",
      "  [ 816.   90.   85.    9.]\n",
      "  [ 437.  217.  213.  133.]\n",
      "  [ 146.  212.  214.  428.]\n",
      "  [   5.   67.   87.  841.]\n",
      "  [   0.    0.    0. 1000.]\n",
      "  [  10.   83.   96.  811.]\n",
      "  [ 122.  218.  237.  423.]\n",
      "  [ 410.  235.  224.  131.]\n",
      "  [ 806.   95.   88.   11.]\n",
      "  [1000.    0.    0.    0.]]\n",
      "\n",
      " [[1000.    0.    0.    0.]\n",
      "  [ 811.   78.  102.    9.]\n",
      "  [ 429.  230.  226.  115.]\n",
      "  [ 132.  232.  241.  395.]\n",
      "  [   6.   74.   89.  831.]\n",
      "  [   0.    0.    0. 1000.]\n",
      "  [   7.   77.   75.  841.]\n",
      "  [ 132.  212.  220.  436.]\n",
      "  [ 449.  242.  197.  112.]\n",
      "  [ 800.   90.   94.   16.]\n",
      "  [1000.    0.    0.    0.]]\n",
      "\n",
      " [[1000.    0.    0.    0.]\n",
      "  [ 809.   87.   96.    8.]\n",
      "  [ 408.  219.  243.  130.]\n",
      "  [ 138.  223.  199.  440.]\n",
      "  [  11.   90.   94.  805.]\n",
      "  [   0.    0.    0. 1000.]\n",
      "  [  11.  102.   76.  811.]\n",
      "  [ 124.  219.  240.  417.]\n",
      "  [ 449.  240.  226.   85.]\n",
      "  [ 832.   80.   83.    5.]\n",
      "  [1000.    0.    0.    0.]]\n",
      "\n",
      " [[1000.    0.    0.    0.]\n",
      "  [ 820.   80.   85.   15.]\n",
      "  [ 429.  211.  208.  152.]\n",
      "  [ 127.  243.  225.  405.]\n",
      "  [  12.   89.   92.  807.]\n",
      "  [   0.    0.    0. 1000.]\n",
      "  [   7.   88.   88.  817.]\n",
      "  [ 120.  234.  231.  415.]\n",
      "  [ 445.  228.  200.  127.]\n",
      "  [ 812.  101.   74.   13.]\n",
      "  [1000.    0.    0.    0.]]\n",
      "\n",
      " [[1000.    0.    0.    0.]\n",
      "  [ 839.   76.   76.    9.]\n",
      "  [ 446.  232.  216.  106.]\n",
      "  [ 134.  225.  227.  414.]\n",
      "  [   4.   92.   78.  826.]\n",
      "  [   0.    0.    0. 1000.]\n",
      "  [  14.   99.   80.  807.]\n",
      "  [ 131.  225.  234.  410.]\n",
      "  [ 423.  230.  234.  113.]\n",
      "  [ 819.   79.   91.   11.]\n",
      "  [1000.    0.    0.    0.]]\n",
      "\n",
      " [[1000.    0.    0.    0.]\n",
      "  [ 819.   77.   89.   15.]\n",
      "  [ 397.  245.  232.  126.]\n",
      "  [ 115.  238.  214.  433.]\n",
      "  [   7.   98.   84.  811.]\n",
      "  [   0.    0.    0. 1000.]\n",
      "  [  12.   90.   92.  806.]\n",
      "  [ 111.  233.  221.  435.]\n",
      "  [ 458.  220.  217.  105.]\n",
      "  [ 830.   85.   81.    4.]\n",
      "  [1000.    0.    0.    0.]]\n",
      "\n",
      " [[1000.    0.    0.    0.]\n",
      "  [ 821.   86.   83.   10.]\n",
      "  [ 399.  244.  241.  116.]\n",
      "  [ 111.  223.  226.  440.]\n",
      "  [  10.   88.   75.  827.]\n",
      "  [   0.    0.    0. 1000.]\n",
      "  [   7.   70.   81.  842.]\n",
      "  [ 132.  212.  224.  432.]\n",
      "  [ 437.  201.  244.  118.]\n",
      "  [ 801.   86.   99.   14.]\n",
      "  [1000.    0.    0.    0.]]\n",
      "\n",
      " [[1000.    0.    0.    0.]\n",
      "  [ 822.   91.   80.    7.]\n",
      "  [ 413.  200.  239.  148.]\n",
      "  [ 104.  221.  240.  435.]\n",
      "  [  11.   83.   78.  828.]\n",
      "  [   0.    0.    0. 1000.]\n",
      "  [   8.   89.   86.  817.]\n",
      "  [ 106.  219.  231.  444.]\n",
      "  [ 421.  244.  213.  122.]\n",
      "  [ 819.   82.   92.    7.]\n",
      "  [1000.    0.    0.    0.]]\n",
      "\n",
      " [[1000.    0.    0.    0.]\n",
      "  [ 838.   73.   79.   10.]\n",
      "  [ 432.  247.  212.  109.]\n",
      "  [ 115.  213.  240.  432.]\n",
      "  [  11.   76.  116.  797.]\n",
      "  [   0.    0.    0. 1000.]\n",
      "  [   7.   90.   73.  830.]\n",
      "  [ 122.  217.  200.  461.]\n",
      "  [ 412.  232.  243.  113.]\n",
      "  [ 835.   76.   79.   10.]\n",
      "  [1000.    0.    0.    0.]]\n",
      "\n",
      " [[1000.    0.    0.    0.]\n",
      "  [ 829.   84.   79.    8.]\n",
      "  [ 402.  250.  234.  114.]\n",
      "  [  97.  230.  233.  440.]\n",
      "  [   8.   88.   86.  818.]\n",
      "  [   0.    0.    0. 1000.]\n",
      "  [   8.   89.   90.  813.]\n",
      "  [ 100.  217.  212.  471.]\n",
      "  [ 434.  239.  211.  116.]\n",
      "  [ 810.   97.   88.    5.]\n",
      "  [1000.    0.    0.    0.]]]\n"
     ]
    }
   ],
   "source": [
    "print(res)"
   ]
  },
  {
   "cell_type": "code",
   "execution_count": 29,
   "metadata": {},
   "outputs": [
    {
     "data": {
      "image/png": "[encoded data removed]",
      "text/plain": [
       "<Figure size 688.452x204.68 with 1 Axes>"
      ]
     },
     "execution_count": 29,
     "metadata": {},
     "output_type": "execute_result"
    }
   ],
   "source": [
    "#Draw the current circuit\n",
    "qc.draw(output='mpl')"
   ]
  },
  {
   "cell_type": "code",
   "execution_count": 40,
   "metadata": {},
   "outputs": [
    {
     "name": "stdout",
     "output_type": "stream",
     "text": [
      "{'00': 1000}\n"
     ]
    },
    {
     "data": {
      "image/png": "[encoded data removed]",
      "text/plain": [
       "<Figure size 504x360 with 1 Axes>"
      ]
     },
     "execution_count": 40,
     "metadata": {},
     "output_type": "execute_result"
    }
   ],
   "source": [
    "result = execute(qc, backend = simulator, shots=1000).result()\n",
    "counts = result.get_counts()\n",
    "\n",
    "print(counts)\n",
    "plot_histogram(counts)"
   ]
  },
  {
   "cell_type": "code",
   "execution_count": 37,
   "metadata": {},
   "outputs": [
    {
     "data": {
      "text/plain": [
       "<matplotlib.axes._subplots.AxesSubplot at 0x2884de49d90>"
      ]
     },
     "execution_count": 37,
     "metadata": {},
     "output_type": "execute_result"
    },
    {
     "data": {
      "image/png": "[encoded data removed]",
      "text/plain": [
       "<Figure size 432x288 with 2 Axes>"
      ]
     },
     "metadata": {
      "needs_background": "light"
     },
     "output_type": "display_data"
    }
   ],
   "source": [
    "# Making a heatmap plot\n",
    "sns.heatmap(res[:, :, 2])"
   ]
  },
  {
   "cell_type": "code",
   "execution_count": null,
   "metadata": {},
   "outputs": [],
   "source": []
  }
 ],
 "metadata": {
  "kernelspec": {
   "display_name": "Python 3",
   "language": "python",
   "name": "python3"
  },
  "language_info": {
   "codemirror_mode": {
    "name": "ipython",
    "version": 3
   },
   "file_extension": ".py",
   "mimetype": "text/x-python",
   "name": "python",
   "nbconvert_exporter": "python",
   "pygments_lexer": "ipython3",
   "version": "3.8.3"
  }
 },
 "nbformat": 4,
 "nbformat_minor": 4
}
