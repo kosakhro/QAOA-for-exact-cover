{
 "cells": [
  {
   "cell_type": "code",
   "execution_count": 8,
   "metadata": {},
   "outputs": [
    {
     "name": "stderr",
     "output_type": "stream",
     "text": [
      "/opt/anaconda3/lib/python3.8/site-packages/qiskit/providers/ibmq/ibmqfactory.py:192: UserWarning: Timestamps in IBMQ backend properties, jobs, and job results are all now in local time instead of UTC.\n",
      "  warnings.warn('Timestamps in IBMQ backend properties, jobs, and job results '\n"
     ]
    },
    {
     "data": {
      "text/plain": [
       "<AccountProvider for IBMQ(hub='ibm-q', group='open', project='main')>"
      ]
     },
     "execution_count": 8,
     "metadata": {},
     "output_type": "execute_result"
    }
   ],
   "source": [
    "from qiskit import *\n",
    "from qiskit import QuantumRegister, ClassicalRegister, QuantumCircuit\n",
    "from qiskit.compiler import transpile, assemble\n",
    "\n",
    "IBMQ.load_account()"
   ]
  },
  {
   "cell_type": "code",
   "execution_count": 9,
   "metadata": {},
   "outputs": [
    {
     "name": "stdout",
     "output_type": "stream",
     "text": [
      "{'00000': 51, '00001': 691, '10000': 2, '10001': 33, '10100': 3, '10101': 9, '00010': 2, '00011': 25, '00100': 7, '00101': 154, '00111': 9, '01000': 1, '01001': 27, '01101': 10}\n",
      "{'00000': 41, '00001': 3, '10000': 1, '10010': 24, '10011': 1, '10110': 8, '10111': 1, '00010': 744, '00011': 19, '00100': 6, '00110': 129, '00111': 7, '01000': 4, '01010': 26, '01011': 1, '01110': 9}\n",
      "{'00000': 844, '00001': 8, '10000': 32, '10010': 1, '10100': 1, '00010': 35, '00011': 1, '00100': 59, '00110': 1, '01000': 37, '01010': 1, '01100': 4}\n",
      "{'00000': 66, '00001': 1, '10000': 1, '10100': 1, '11000': 10, '11100': 6, '00010': 2, '00100': 10, '01000': 731, '01001': 14, '01010': 20, '01100': 153, '01101': 3, '01110': 6}\n",
      "{'00000': 25, '00001': 1, '10000': 739, '10001': 8, '10010': 26, '10100': 153, '10101': 2, '10110': 7, '11000': 39, '11010': 3, '11100': 11, '00010': 1, '00100': 8, '01000': 1}\n"
     ]
    }
   ],
   "source": [
    "\n",
    "my_provider = IBMQ.get_provider()\n",
    "my_provider.backends()\n",
    "\n",
    "\n",
    "\n",
    "n_qubits = 5\n",
    "qc_list = []\n",
    "for i in range(n_qubits):\n",
    "    qr = QuantumRegister(n_qubits)\n",
    "    cr = ClassicalRegister(n_qubits)\n",
    "    qc = QuantumCircuit(qr, cr)\n",
    "    qc.x(qr[i])\n",
    "    qc.measure(qr, cr)\n",
    "    qc_list.append(qc)\n",
    "\n",
    "backend = my_provider.get_backend('ibmq_5_yorktown')\n",
    "transpiled_circs = transpile(qc_list, backend=backend)\n",
    "qobjs = assemble(transpiled_circs, backend=backend)\n",
    "job_info = backend.run(qobjs)\n",
    "\n",
    "for circ_index in range(len(transpiled_circs)):\n",
    "    print(job_info.result().get_counts(transpiled_circs[circ_index]))"
   ]
  },
  {
   "cell_type": "code",
   "execution_count": null,
   "metadata": {},
   "outputs": [],
   "source": []
  },
  {
   "cell_type": "code",
   "execution_count": null,
   "metadata": {},
   "outputs": [],
   "source": []
  }
 ],
 "metadata": {
  "kernelspec": {
   "display_name": "Python 3",
   "language": "python",
   "name": "python3"
  },
  "language_info": {
   "codemirror_mode": {
    "name": "ipython",
    "version": 3
   },
   "file_extension": ".py",
   "mimetype": "text/x-python",
   "name": "python",
   "nbconvert_exporter": "python",
   "pygments_lexer": "ipython3",
   "version": "3.8.3"
  }
 },
 "nbformat": 4,
 "nbformat_minor": 4
}
